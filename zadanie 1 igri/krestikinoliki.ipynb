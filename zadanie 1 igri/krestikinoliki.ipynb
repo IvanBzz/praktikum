{
 "cells": [
  {
   "cell_type": "code",
   "execution_count": 1,
   "id": "e5403f3a",
   "metadata": {
    "scrolled": true,
    "ExecuteTime": {
     "end_time": "2023-10-02T15:17:08.519842900Z",
     "start_time": "2023-10-02T15:16:50.828309700Z"
    }
   },
   "outputs": [
    {
     "name": "stdout",
     "output_type": "stream",
     "text": [
      "1 2 3\n",
      "4 5 6\n",
      "7 8 9\n",
      "X 2 3\n",
      "4 5 6\n",
      "7 8 9\n",
      "X O 3\n",
      "4 5 6\n",
      "7 8 9\n",
      "X O 3\n",
      "X 5 6\n",
      "7 8 9\n",
      "X O 3\n",
      "X 5 6\n",
      "O 8 9\n"
     ]
    },
    {
     "ename": "ValueError",
     "evalue": "7 is not in list",
     "output_type": "error",
     "traceback": [
      "\u001B[1;31m---------------------------------------------------------------------------\u001B[0m",
      "\u001B[1;31mValueError\u001B[0m                                Traceback (most recent call last)",
      "Cell \u001B[1;32mIn[1], line 45\u001B[0m\n\u001B[0;32m     43\u001B[0m     symbol\u001B[38;5;241m=\u001B[39m\u001B[38;5;124m'\u001B[39m\u001B[38;5;124mO\u001B[39m\u001B[38;5;124m'\u001B[39m\n\u001B[0;32m     44\u001B[0m     step\u001B[38;5;241m=\u001B[39m\u001B[38;5;28mint\u001B[39m(\u001B[38;5;28minput\u001B[39m(\u001B[38;5;124m\"\u001B[39m\u001B[38;5;124mИгрок 2, ваш ход: \u001B[39m\u001B[38;5;124m\"\u001B[39m))\n\u001B[1;32m---> 45\u001B[0m steps(step,symbol)\n\u001B[0;32m     46\u001B[0m win\u001B[38;5;241m=\u001B[39mresult()\n\u001B[0;32m     47\u001B[0m \u001B[38;5;28;01mif\u001B[39;00m win\u001B[38;5;241m!=\u001B[39m\u001B[38;5;124m\"\u001B[39m\u001B[38;5;124m\"\u001B[39m:\n",
      "Cell \u001B[1;32mIn[1], line 23\u001B[0m, in \u001B[0;36msteps\u001B[1;34m(step, symbol)\u001B[0m\n\u001B[0;32m     22\u001B[0m \u001B[38;5;28;01mdef\u001B[39;00m \u001B[38;5;21msteps\u001B[39m(step,symbol):\n\u001B[1;32m---> 23\u001B[0m     ind\u001B[38;5;241m=\u001B[39m\u001B[38;5;28mmap\u001B[39m\u001B[38;5;241m.\u001B[39mindex(step)\n\u001B[0;32m     24\u001B[0m     \u001B[38;5;28mmap\u001B[39m[ind]\u001B[38;5;241m=\u001B[39msymbol\n",
      "\u001B[1;31mValueError\u001B[0m: 7 is not in list"
     ]
    }
   ],
   "source": [
    "#игровое поле\n",
    "map=[1,2,3,\n",
    "    4,5,6,\n",
    "    7,8,9]\n",
    "#победные линии\n",
    "victories=[[0,1,2],[0,3,6],[0,4,8],[1,4,7],[2,4,6],[2,5,8],[3,4,5],[6,7,8]]\n",
    "#вывод поля на экран\n",
    "def print_map():\n",
    "    print(map[0],end=' ')\n",
    "    print(map[1],end=' ')\n",
    "    print(map[2])\n",
    "    \n",
    "    print(map[3],end=' ')\n",
    "    print(map[4],end=' ')\n",
    "    print(map[5])\n",
    "    \n",
    "    print(map[6],end=' ')\n",
    "    print(map[7],end=' ')\n",
    "    print(map[8])\n",
    "\n",
    "#ход в ячейку\n",
    "def steps(step,symbol):\n",
    "    ind=map.index(step)\n",
    "    map[ind]=symbol\n",
    "#результат хода\n",
    "def result():\n",
    "    win=\"\"\n",
    "    \n",
    "    for i in victories:\n",
    "        if map[i[0]]=='X' and map[i[1]]=='X' and map[i[2]]==\"X\":\n",
    "            win=\"X\"\n",
    "        if map[i[0]]=='O' and map[i[1]]=='O' and map[i[2]]==\"O\":\n",
    "            win=\"O\"\n",
    "    return win\n",
    "#основная программа\n",
    "player1=True\n",
    "while True:\n",
    "    print_map()\n",
    "    if player1==True:\n",
    "        symbol='X'\n",
    "        step=int(input(\"Игрок 1, ваш ход: \"))\n",
    "    else:\n",
    "        symbol='O'\n",
    "        step=int(input(\"Игрок 2, ваш ход: \"))\n",
    "    steps(step,symbol)\n",
    "    win=result()\n",
    "    if win!=\"\":\n",
    "        break\n",
    "    player1=not(player1)\n",
    "print(print_map())\n",
    "print('Победил: ',win)"
   ]
  },
  {
   "cell_type": "code",
   "execution_count": null,
   "outputs": [],
   "source": [],
   "metadata": {
    "collapsed": false,
    "ExecuteTime": {
     "start_time": "2023-10-02T15:17:08.511989500Z"
    }
   },
   "id": "797c6db4b2d3ca64"
  }
 ],
 "metadata": {
  "kernelspec": {
   "display_name": "Python 3 (ipykernel)",
   "language": "python",
   "name": "python3"
  },
  "language_info": {
   "codemirror_mode": {
    "name": "ipython",
    "version": 3
   },
   "file_extension": ".py",
   "mimetype": "text/x-python",
   "name": "python",
   "nbconvert_exporter": "python",
   "pygments_lexer": "ipython3",
   "version": "3.11.4"
  }
 },
 "nbformat": 4,
 "nbformat_minor": 5
}
